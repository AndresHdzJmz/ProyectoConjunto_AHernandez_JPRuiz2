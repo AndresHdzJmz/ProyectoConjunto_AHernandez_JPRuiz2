{
 "cells": [
  {
   "cell_type": "markdown",
   "id": "italian-above",
   "metadata": {},
   "source": [
    "### `Juan Pablo Ruiz Magaña`\n",
    "\n",
    "#### *Expectativas de clase*:\n",
    "\n",
    "* Espero obtener las competencias necesarias para simular procesos financieros.\n",
    "\n",
    "* Espero mejorar mi forma de programar de forma que esta sea más eficiente.\n",
    "\n",
    "* Refrescar los fundamentos de MonteCarlo así como estudiar sus aplicaciones.\n",
    "\n",
    "* Lograr un buen manejo del software de control de versiones Git."
   ]
  },
  {
   "cell_type": "markdown",
   "id": "ahead-milwaukee",
   "metadata": {},
   "source": [
    "<p style=\"text-align:justify\"><strong style=\"font-family:serif%;color:dodgerblue;font-size:110%\">&nbsp; Kemna y Vorst (1990)</strong> <small style=\"font-family:serif;font-size:110%\"> muestran que las opciones asiáticas con media geométrica continua se pueden valuar con el mismo enfoque  de las opciones</small> <i style=\"font-family:serif;font-size=110%\"> plain vanilla; </i> <small style=\"font-family:serif;font-size:110%\"> solo se deben cambiar los parámetros de volatilidad ${\\sigma}$ por ${\\sigma_a}$, y e costo de acarreo ${b}$ por ${b_A}$.<br> </small> \n",
    "<small style=\"font-family:serif;font-size:110%\">&nbsp; De acuerdo con Kemna y Vorst, las fórmulas para valuar una opción de compra y una opción de venta son:</small></p>\n",
    "\n",
    "<div style=\"text-align:left\"> $$ c\\ {\\approx}\\ S_te^{(b_A-r)(T-t)}{\\phi}(d_1) - Ke^{-r(T-t)}{\\phi}(d_2), $$ </div>\n",
    "<div style=\"text-align: right;font-family;serif;font-size=110%\">  (3) </div> \n",
    "$$ p\\ {\\approx}\\ Ke^{(T-t)}{\\phi}(-d_2) - S_te^{(b_A-r)(T-t)}{\\phi}(-d_1). $$\n",
    "\n",
    "<p><small style=\"font-family:serif;font-size:110%\">con ${d_1}$ y ${d_2}$ dados por:</small></p>\n",
    "\n",
    "$$ \\ d_1 = \\frac{ln(S_t / K) + (b_A + 1/2{\\sigma_a}^2 (T - t)}{{\\sigma_a}\\sqrt{T - t}}, $$\n",
    "<div style=\"text-align: right;font-family;serif;font-size=110%\">  (4) </div> \n",
    "$$ \\ d_2 = d1 - {\\sigma_a}\\sqrt{T - t}. $$ \n",
    "\n",
    "\n",
    "<p><small style=\"font-family:serif;font-size:110%\">La función ${\\Phi}(d)$ es la función de distribución acumulada de $$ {E{~}N(0,1)}$$.La volatilidad ajustada es igual a:</small></p>\n",
    "\n",
    "\n",
    "<div style=\"text-align:left\"> \n",
    "    $$ {\\sigma_a} = \\frac{{\\sigma}}{\\sqrt{3}}, $$ \n",
    "    \n",
    "</div>\n",
    "\n",
    "<p><small style=\"font-family:serif;font-size:110%\">mientras que el costo de acarreo ajustado es:</small></p>\n",
    "\n",
    "$$ b_A = \\frac{1}{2} \\Big(v - \\frac{{\\sigma^2}}{6}\\Big). $$"
   ]
  }
 ],
 "metadata": {
  "kernelspec": {
   "display_name": "Python 3",
   "language": "python",
   "name": "python3"
  },
  "language_info": {
   "codemirror_mode": {
    "name": "ipython",
    "version": 3
   },
   "file_extension": ".py",
   "mimetype": "text/x-python",
   "name": "python",
   "nbconvert_exporter": "python",
   "pygments_lexer": "ipython3",
   "version": "3.7.9"
  }
 },
 "nbformat": 4,
 "nbformat_minor": 5
}
