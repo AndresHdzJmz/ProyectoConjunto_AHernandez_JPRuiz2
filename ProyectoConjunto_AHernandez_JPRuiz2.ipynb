{
 "cells": [
  {
   "cell_type": "markdown",
   "metadata": {},
   "source": [
    "<img style=\"float: left; margin: 30px 15px 15px 15px;\" src=\"https://pngimage.net/wp-content/uploads/2018/06/logo-iteso-png-5.png\" width=\"300\" height=\"500\" /> \n",
    "    \n",
    "    \n",
    "### <font color='navy'> Simulación de procesos financieros. \n",
    "\n",
    "**Nombres:** Juan Pablo Ruiz Magaña y Andrés Hernández Jiménez.\n",
    "\n",
    "**Fecha:** 31 de Enero del 2021.\n",
    "\n",
    "**Expediente** : 717895 y 721093.\n",
    "**Profesor:** Oscar David Jaramillo Zuluaga.\n",
    "\n",
    "# Tarea 1: Clase 2"
   ]
  },
  {
   "cell_type": "markdown",
   "metadata": {},
   "source": [
    "**Aquí está el repositorio que trabajamos: https://github.com/AndresHdzJmz/ProyectoConjunto_AHernandez_JPRuiz2**"
   ]
  },
  {
   "cell_type": "markdown",
   "metadata": {},
   "source": [
    "### `Juan Pablo Ruiz Magaña`\n",
    "\n",
    "#### *Expectativas de clase*:\n",
    "\n",
    "* Espero obtener las competencias necesarias para simular procesos financieros.\n",
    "\n",
    "* Espero mejorar mi forma de programar de forma que esta sea más eficiente.\n",
    "\n",
    "* Refrescar los fundamentos de MonteCarlo así como estudiar sus aplicaciones.\n",
    "\n",
    "* Lograr un buen manejo del software de control de versiones Git."
   ]
  },
  {
   "cell_type": "markdown",
   "metadata": {},
   "source": [
    "## `Andrés Hernández Jiménez`\n",
    "\n",
    "### *Expectativas de la clase:*\n",
    "\n",
    "* En esta clase espero mejorar mi habilidad al programar al igual que optimizar mis metodos.\n",
    "\n",
    "* En esta clase quiero aprender de las aplicaciones reales que tienen las simulaciones matemáticas.\n",
    "\n",
    "* Aprender a familiarizarme con software real que se emplea en la gestion de trabajos en el mundo laboral.\n",
    "\n",
    "* Mejorar mi habilidad en la visualización de conceptos matemáticos.\n"
   ]
  },
  {
   "cell_type": "markdown",
   "metadata": {},
   "source": [
    "| $$i$$ | $$x$$ | $$f_(x)$$ |\n",
    "|:-:|-|-|\n",
    "|$$0$$ | $$-1$$ | $$0.3678$$ |\n",
    "|$\\color{red}{1}$  | $\\color{red}{-0.5}$| $\\color{red}{0.7788}$  | \n",
    "|$\\color{blue}{2}$ | $\\color{blue}{0}$|  $\\color{blue}{1}$ |\n",
    "| $\\color{red}{3}$ | $\\color{red}{0.5}$|  $\\color{red}{0.7788}$ |\n",
    "| $$4$$ |  $$1$$ |  $$0.3678$$ |"
   ]
  },
  {
   "cell_type": "markdown",
   "metadata": {},
   "source": [
    "<div align=\"center\">Cuadro 1: tabla de valores$$f(x)$$ </div>"
   ]
  },
  {
   "cell_type": "markdown",
   "metadata": {},
   "source": [
    "\\begin{equation}\n",
    "\\int_{-1}^{ 1} e^{-x^2} dx{\\approx}\\frac{0,5}{3}[f(-1)+f(1)+4(\\color{red}{f(-0,5)+f(0,5)})+2\\color{blue}{(0)}]\n",
    "\\end{equation}\n",
    "\\begin{equation}\n",
    "{\\approx}\\frac{0,5}{3}[0.3678+0.3678+4(\\color{red}{0.7788+0.7788})+2\\cdot\\color{blue}{1}]{\\approx}1,4943\n",
    "\\end{equation}"
   ]
  },
  {
   "cell_type": "markdown",
   "metadata": {},
   "source": [
    "</strong> <small style=\"font-family:serif;font-size:140%\"> A modo de verificación, se calculará por software, el valor del área para </small><i style=\"font-family:serif;font-size=140%\"> n=100, </i> </strong> <small style=\"font-family:serif;font-size:140%\"> un valor mucho más elevado al que se utilizó anteriormente. Si lo calculado es previamente es correcto, se esperaría que sea próximo al valor presentado a continuación para ser una buena aproximación. </small>"
   ]
  },
  {
   "cell_type": "markdown",
   "metadata": {},
   "source": [
    "\\begin{equation}\n",
    "\\int_{-1}^{ 1} e^{-x^2} dx{\\approx}1,4936\n",
    "\\end{equation}"
   ]
  },
  {
   "cell_type": "markdown",
   "metadata": {},
   "source": [
    "| i | 1 | 2 | 3 | 4 | 5 | 6 | 7 |\n",
    "|:-:|-|-|-|-|-|-|-|\n",
    "| $$E_i(V)$$ | 12 | 10 | 24 | 12 | - | - | - |\n",
    "| $$r_i(\\Omega)$$ | 0.1 | 0.5 | 0.2 | 0.5 | - | - | - |\n",
    "| $$R_i(\\Omega)$$ | 25 | 40 | 16 | 20 | 9 | 4 | 20 |\n"
   ]
  },
  {
   "cell_type": "markdown",
   "metadata": {},
   "source": [
    "$\n",
    "\\hspace{0.5cm}\\color{skyblue}{\\textbf{Kemna y Vorst (1990)}}\\,\\textrm{muestran que las opciones asiáticas con media geométrica continua se}\\\\ \n",
    "\\textrm{pueden valuar con el mismo enfoque de las opciones}\\,\\textit{plain vanilla;}\\,\\textrm{solo se deben cambiar los}\\\\\n",
    "\\textrm{parámetros de volatilidad ${\\sigma}$ por ${\\sigma_A}$, y el costo de acarreo ${b}$ por ${b_A}.$} \n",
    "\\hspace{0.5cm}\\textrm{De acuerdo con Kemna y Vorst, las fórmulas para valuar una opción de compra y una opción} \\\\\n",
    "\\textrm{de venta son:}\n",
    "$\n",
    "\n",
    "$\n",
    "\\begin{multline}\n",
    "c\\ {\\approx}\\ S_te^{(b_A-r)(T-t)}\\mathit{\\Phi}(d_1) - Ke^{-r(T-t)}\\mathit{\\Phi}(d_2) \\tag{3},\\\\\n",
    "\\hfill\n",
    "\\end{multline}\n",
    "$\n",
    "\n",
    "\n",
    "$\n",
    "\\begin{multline}\n",
    "p\\ {\\approx}\\ Ke^{-r(T-t)}\\mathit{\\Phi}(-d_2) - S_te^{(b_A-r)(T-t)}\\mathit{\\Phi}(-d_1). \n",
    "\\hfill\n",
    "\\end{multline}\n",
    "$\n",
    "\n",
    "$\n",
    "\\textrm{con ${d_1}$ y ${d_2}$ dados por:}\n",
    "$\n",
    "\n",
    "$ \n",
    "\\begin{multline}\n",
    "d_1 =\\frac{\\ln(S_t / K)+ (b_A + 1/2{\\sigma_a}^2) (T - t)}{{\\sigma_a}\\sqrt{T - t}} \\tag{4}, \\\\\n",
    "\\hfill\n",
    "\\end{multline}\n",
    "$\n",
    "\n",
    "$\n",
    "\\begin{multline}\n",
    "\\ d_2 = d_1 - {\\sigma_a}\\sqrt{T - t}. \n",
    "\\end{multline}\n",
    "$ \n",
    "\n",
    "$\n",
    "\\textrm{La función $\\mathit{\\Phi}(d)$ es la función de distribución acumulada de  ${E \\sim\\mathcal{N}(0,1)}$. La volatilidad ajustada}\\\\\n",
    "\\textrm{es igual a:}\n",
    "$\n",
    "\n",
    "$\n",
    "\\begin{multline}\n",
    "\\ {\\sigma_a} =\\frac{{\\sigma}}{\\sqrt{3}}, \n",
    "\\end{multline}\n",
    "$ \n",
    " \n",
    "$\\textrm{mientras que el costo de acarreo ajustado es:}$\n",
    "\n",
    "$\n",
    "\\begin{multline}\n",
    "  b_A ={\\frac{1}{2}} \\Big( v - \\frac{{\\sigma^2}}{6}\\Big). \n",
    "\\end{multline}\n",
    "$"
   ]
  },
  {
   "cell_type": "markdown",
   "metadata": {},
   "source": [
    "## `Parte 2`"
   ]
  },
  {
   "cell_type": "markdown",
   "metadata": {},
   "source": [
    "### `Secuencia de Fibonacci`"
   ]
  },
  {
   "cell_type": "code",
   "execution_count": 1,
   "metadata": {},
   "outputs": [
    {
     "data": {
      "text/plain": [
       "[0,\n",
       " 1,\n",
       " 1,\n",
       " 2,\n",
       " 3,\n",
       " 5,\n",
       " 8,\n",
       " 13,\n",
       " 21,\n",
       " 34,\n",
       " 55,\n",
       " 89,\n",
       " 144,\n",
       " 233,\n",
       " 377,\n",
       " 610,\n",
       " 987,\n",
       " 1597,\n",
       " 2584,\n",
       " 4181,\n",
       " 6765,\n",
       " 10946,\n",
       " 17711,\n",
       " 28657,\n",
       " 46368,\n",
       " 75025,\n",
       " 121393,\n",
       " 196418,\n",
       " 317811,\n",
       " 514229,\n",
       " 832040,\n",
       " 1346269,\n",
       " 2178309,\n",
       " 3524578,\n",
       " 5702887,\n",
       " 9227465,\n",
       " 14930352,\n",
       " 24157817,\n",
       " 39088169,\n",
       " 63245986,\n",
       " 102334155,\n",
       " 165580141,\n",
       " 267914296,\n",
       " 433494437,\n",
       " 701408733,\n",
       " 1134903170,\n",
       " 1836311903,\n",
       " 2971215073,\n",
       " 4807526976,\n",
       " 7778742049,\n",
       " 12586269025,\n",
       " 20365011074,\n",
       " 32951280099,\n",
       " 53316291173,\n",
       " 86267571272,\n",
       " 139583862445,\n",
       " 225851433717,\n",
       " 365435296162,\n",
       " 591286729879,\n",
       " 956722026041,\n",
       " 1548008755920,\n",
       " 2504730781961,\n",
       " 4052739537881,\n",
       " 6557470319842,\n",
       " 10610209857723,\n",
       " 17167680177565,\n",
       " 27777890035288,\n",
       " 44945570212853,\n",
       " 72723460248141,\n",
       " 117669030460994,\n",
       " 190392490709135,\n",
       " 308061521170129,\n",
       " 498454011879264,\n",
       " 806515533049393,\n",
       " 1304969544928657,\n",
       " 2111485077978050,\n",
       " 3416454622906707,\n",
       " 5527939700884757,\n",
       " 8944394323791464,\n",
       " 14472334024676221,\n",
       " 23416728348467685,\n",
       " 37889062373143906,\n",
       " 61305790721611591,\n",
       " 99194853094755497,\n",
       " 160500643816367088,\n",
       " 259695496911122585,\n",
       " 420196140727489673,\n",
       " 679891637638612258,\n",
       " 1100087778366101931,\n",
       " 1779979416004714189,\n",
       " 2880067194370816120,\n",
       " 4660046610375530309,\n",
       " 7540113804746346429,\n",
       " 12200160415121876738,\n",
       " 19740274219868223167,\n",
       " 31940434634990099905,\n",
       " 51680708854858323072,\n",
       " 83621143489848422977,\n",
       " 135301852344706746049,\n",
       " 218922995834555169026]"
      ]
     },
     "execution_count": 1,
     "metadata": {},
     "output_type": "execute_result"
    }
   ],
   "source": [
    "fib=[0,1]\n",
    "for i in range (2,100):\n",
    "    fib.append(fib[i-1]+fib[i-2])\n",
    "fib"
   ]
  },
  {
   "cell_type": "markdown",
   "metadata": {},
   "source": [
    "### `Números primos del 0 al 100`"
   ]
  },
  {
   "cell_type": "code",
   "execution_count": 1,
   "metadata": {},
   "outputs": [
    {
     "name": "stdout",
     "output_type": "stream",
     "text": [
      "Estos son los números primos del 0 al 100: [2, 3, 5, 7, 11, 13, 17, 19, 23, 29, 31, 37, 41, 43, 47, 53, 59, 61, 67, 71, 73, 79, 83, 89, 97]\n"
     ]
    }
   ],
   "source": [
    "# Programa que imprime los números primos\n",
    "import numpy as np\n",
    "x = np.arange(1,101,1)\n",
    "p = []\n",
    "for i in range(len(x)):\n",
    "    k = i % x\n",
    "    if np.count_nonzero(k) == len(x)-2:\n",
    "         p.append(i)\n",
    "print(\"Estos son los números primos del 0 al 100:\", p)"
   ]
  }
 ],
 "metadata": {
  "kernelspec": {
   "display_name": "Python 3",
   "language": "python",
   "name": "python3"
  },
  "language_info": {
   "codemirror_mode": {
    "name": "ipython",
    "version": 3
   },
   "file_extension": ".py",
   "mimetype": "text/x-python",
   "name": "python",
   "nbconvert_exporter": "python",
   "pygments_lexer": "ipython3",
   "version": "3.7.4"
  }
 },
 "nbformat": 4,
 "nbformat_minor": 5
}
